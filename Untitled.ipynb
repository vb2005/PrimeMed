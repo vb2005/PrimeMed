{
 "cells": [
  {
   "cell_type": "code",
   "execution_count": null,
   "id": "3f944360",
   "metadata": {
    "cellId": "mjpany2wrw1mrws19307t"
   },
   "outputs": [],
   "source": [
    "#!g2.mig\n",
    "#%% Check CUDA\n",
    "from tensorflow.python.client import device_lib\n",
    "print(device_lib.list_local_devices()) # list of DeviceAttributes"
   ]
  },
  {
   "cell_type": "code",
   "execution_count": null,
   "id": "881de8bd",
   "metadata": {
    "cellId": "8v28yujofpmbo9nbd6pecd"
   },
   "outputs": [],
   "source": [
    "#!g2.mig\n",
    "#%% LIBS\n",
    "import SimpleITK as sitk\n",
    "import numpy as np\n",
    "import tensorflow as tf\n",
    "import nibabel as nib\n",
    "import numpy as np\n",
    "import os\n",
    "from tensorflow.keras.models import Model\n",
    "from tensorflow.keras.layers import Input, concatenate, Conv3D, MaxPooling3D, Conv3DTranspose\n",
    "from tensorflow.keras.optimizers import RMSprop, Adam\n",
    "import skimage\n",
    "from skimage.util import montage\n",
    "from skimage.transform import resize\n",
    "from scipy.ndimage import zoom\n",
    "import cv2"
   ]
  },
  {
   "cell_type": "code",
   "execution_count": null,
   "id": "eb4addea",
   "metadata": {
    "cellId": "du7ccpss5f07fznb1h60nq"
   },
   "outputs": [],
   "source": [
    "#!g2.mig\n",
    "#%% Test Reading NII\n",
    "sample_filename=\"D:/PrimeMed/Prime/nii/37_40000965_Leshch.nii\"\n",
    "sample_img = nib.load(sample_filename)\n",
    "sample_img = np.asanyarray(sample_img.dataobj)\n",
    "print(sample_img.shape)\n",
    "img_min = np.min(sample_img)\n",
    "sample_img=(sample_img - img_min)*255 / (np.max(sample_img) - img_min)\n",
    "print(img_min,np.max(sample_img))\n",
    "cv2.imwrite(\"2.png\",sample_img[sample_img.shape[0]//2])\n",
    "a=montage(sample_img)\n",
    "print(a.shape)"
   ]
  },
  {
   "cell_type": "code",
   "execution_count": null,
   "id": "71e72708",
   "metadata": {
    "cellId": "4tupogxq8sx4j5k8kb6vu9"
   },
   "outputs": [],
   "source": [
    "#!g2.mig\n",
    "#%% UNET 3D. Kvantron Edition\n",
    "def get_model():\n",
    "  inputs = Input((64,64,64,1))\n",
    "  conv1 = Conv3D(8, (3, 3, 3), activation='relu', padding='same')(inputs)\n",
    "  conv1 = Conv3D(8, (3, 3, 3), activation='relu', padding='same')(conv1)\n",
    "  \n",
    "  #pool1 = MaxPooling3D(pool_size=(2, 2, 2))(conv1)\n",
    "  pool1 = Conv3D(8, (3, 3, 3),(2, 2, 2), activation='relu', padding='same')(conv1)\n",
    "  \n",
    "\n",
    "  conv2 = Conv3D(16, (3, 3, 3), activation='relu', padding='same')(pool1)\n",
    "  conv2 = Conv3D(16, (3, 3, 3), activation='relu', padding='same')(conv2)\n",
    "  \n",
    "  #pool2 = MaxPooling3D(pool_size=(2, 2, 2))(conv2)\n",
    "  pool2 = Conv3D(16, (3, 3, 3),(2, 2, 2), activation='relu', padding='same')(conv2)\n",
    "\n",
    "  conv3 = Conv3D(32, (3, 3, 3), activation='relu', padding='same')(pool2)\n",
    "  conv3 = Conv3D(32, (3, 3, 3), activation='relu', padding='same')(conv3)\n",
    "  #pool3 = MaxPooling3D(pool_size=(2, 2, 2))(conv3)\n",
    "  pool3 = Conv3D(32, (3, 3, 3),(2, 2, 2), activation='relu', padding='same')(conv3)\n",
    "\n",
    "  conv4 = Conv3D(64, (3, 3, 3), activation='relu', padding='same')(pool3)\n",
    "  conv4 = Conv3D(64, (3, 3, 3), activation='relu', padding='same')(conv4)\n",
    "  \n",
    "  pool4 = MaxPooling3D(pool_size=(2, 2, 2))(conv4)\n",
    "\n",
    "  conv5 = Conv3D(512, (3, 3, 3), activation='relu', padding='same')(pool4)\n",
    "  conv5 = Conv3D(512, (3, 3, 3), activation='relu', padding='same')(conv5)\n",
    "  \n",
    "  conv5_1=Conv3DTranspose(64, (2, 2, 2), strides=(2, 2, 2), padding='same')(conv5)\n",
    "\n",
    "  up6 = concatenate([conv5_1, conv4], axis=4)\n",
    "\n",
    "  #print(conv4)\n",
    "  \n",
    "  conv6 = Conv3D(256, (3, 3, 3), activation='relu', padding='same')(up6)\n",
    "  conv6 = Conv3D(256, (3, 3, 3), activation='relu', padding='same')(conv6)\n",
    "\n",
    "  up7 = concatenate([Conv3DTranspose(32, (2, 2, 2), strides=(2, 2, 2), padding='same')(conv4), conv3], axis=4)\n",
    "  conv7 = Conv3D(32, (3, 3, 3), activation='relu', padding='same')(up7)\n",
    "  conv7 = Conv3D(32, (3, 3, 3), activation='relu', padding='same')(conv7)\n",
    "\n",
    "  up8 = concatenate([Conv3DTranspose(16, (2, 2, 2), strides=(2, 2, 2), padding='same')(conv7), conv2], axis=4)\n",
    "  conv8 = Conv3D(16, (3, 3, 3), activation='relu', padding='same')(up8)\n",
    "  conv8 = Conv3D(16, (3, 3, 3), activation='relu', padding='same')(conv8)\n",
    "\n",
    "  up9 = concatenate([Conv3DTranspose(8, (2, 2, 2), strides=(2, 2, 2), padding='same')(conv8), conv1], axis=4)\n",
    "  conv9 = Conv3D(8, (3, 3, 3), activation='relu', padding='same')(up9)\n",
    "  conv9 = Conv3D(8, (3, 3, 3), activation='relu', padding='same')(conv9)\n",
    "\n",
    "  #conv10 = Conv3D(1, (1, 1, 1), activation='softsign')(conv9)\n",
    "  conv10 = Conv3D(1, (1, 1, 1), activation='sigmoid')(conv9)\n",
    "  #conv10 = Conv3D(1, (1, 1, 1), activation='sigmoid')(conv10)\n",
    "\n",
    "  model = Model(inputs=[inputs], outputs=[conv10])\n",
    "  #model.summary()\n",
    "\n",
    "  model.compile(optimizer=Adam(), \n",
    "                loss='binary_crossentropy', \n",
    "                metrics=['accuracy'])\n",
    "#(lr=1e-5, beta_1=0.9, beta_2=0.999, epsilon=1e-08, decay=0.000000199)\n",
    "  return model\n",
    "model=get_model()"
   ]
  },
  {
   "cell_type": "code",
   "execution_count": null,
   "id": "88c20dce",
   "metadata": {
    "cellId": "5nvs5fdmlpqubffmki3t"
   },
   "outputs": [],
   "source": [
    "#!g2.mig\n",
    "#%% Read Nii Files\n",
    "X_train=[]\n",
    "Y_train=[]\n",
    "\n",
    "data_root=\"D:\\\\PrimeMed\\\\Prime\\\\nii\\\\src\"\n",
    "images = os.listdir(data_root)\n",
    "for image in images:\n",
    "  im=nib.load(data_root+\"\\\\\"+image)\n",
    "  im = np.array(im.dataobj)\n",
    "  im = im[0:200,200:400,200:400]\n",
    "  im = zoom(im, (0.32, 0.32, 0.32))\n",
    "  \n",
    "  im_min = np.min(im)\n",
    "  im_max = np.max(im)\n",
    "\n",
    "  im=((im - im_min)*255.0) / (im_max - im_min)\n",
    "  im=im.reshape(64,64,64,1)\n",
    "  print(im.shape)\n",
    "  X_train.append(im)\n",
    "\n",
    "\n",
    "data_root=\"D:\\\\PrimeMed\\\\Prime\\\\nii\\\\dst\"\n",
    "images = os.listdir(data_root)\n",
    "for image in images:\n",
    "  im=nib.load(data_root+\"\\\\\"+image)\n",
    "  im = np.array(im.dataobj)\n",
    "  im = im[0:200,200:400,200:400]\n",
    "  im = zoom(im, (0.32, 0.32, 0.32))\n",
    "  #print(np.unique(im.ravel()))  \n",
    "  im_min = np.min(im)\n",
    "  im_max = np.max(im)\n",
    "  im=((im - im_min)*255.0) / (im_max - im_min)\n",
    "  im[im > 0]=1\n",
    "  im=im.reshape(64,64,64,1)\n",
    "  print(im.shape)\n",
    "  Y_train.append(im)\n",
    "\n",
    "X_train=np.array(X_train)\n",
    "Y_train=np.array(Y_train)\n",
    "print(X_train.shape)\n",
    "print(Y_train.shape)"
   ]
  },
  {
   "cell_type": "code",
   "execution_count": null,
   "id": "279dc63c",
   "metadata": {
    "cellId": "rddnh2jb6kbzp7k61q5i1e"
   },
   "outputs": [],
   "source": [
    "#!g2.mig\n",
    "#%% Start Training\n",
    "def cb():\n",
    "  a55 = model.predict(im)*255\n",
    "  aa=a55.reshape(64,64,64)\n",
    "  cv2.imwrite(\"result.png\", montage(aa))\n",
    "\n",
    "for i in range(1000):\n",
    "    history = model.fit(X_train, Y_train, batch_size=2, epochs=1)\n",
    "    cb()"
   ]
  },
  {
   "cell_type": "code",
   "execution_count": null,
   "id": "0b3f9f46",
   "metadata": {
    "cellId": "xi84us364ze3kkb1523xxc"
   },
   "outputs": [],
   "source": [
    "#%% Test\n",
    "im2=nib.load('D:/PrimeMed/Prime/nii/src/990056070.nii')\n",
    "a55 = model.predict(im)*255\n",
    "aa=a55.reshape(64,64,64)\n",
    "aa = zoom(aa, (1.0/0.32, 1.0/0.32, 1.0/0.32))\n",
    "bb = np.zeros((512,512,512))\n",
    "print(\"FIN\")\n",
    "\n",
    "for a in range(1,199):\n",
    "    for b in range(1,199):\n",
    "        for c in range(1,199):\n",
    "             #[a,b+200,c+200] = aa[a,b,c]\n",
    "             val = []\n",
    "             for x in range (-1,2):\n",
    "                 for y in range (-1,2):\n",
    "                     for z in range(-1,2):\n",
    "                         val.append(aa[a+x, b+y, c+z])\n",
    "                        \n",
    "             val.sort()\n",
    "             bb[c,b+200,a+200] = val[13]\n",
    "                    \n",
    "\n",
    "print(\"FIN\")\n",
    "\n",
    "bb[bb>128] = 255\n",
    "bb[bb<=128] = 0\n",
    "\n",
    "cv2.imwrite(\"result.png\", montage(bb))\n",
    "final_img = nib.Nifti1Image(bb, im2.affine)\n",
    "nib.save(final_img, 'D:/PrimeMed/Prime/4.nii')"
   ]
  },
  {
   "cell_type": "code",
   "execution_count": null,
   "id": "781bf421",
   "metadata": {
    "cellId": "oqol6p26adjo0wo747aac"
   },
   "outputs": [],
   "source": []
  },
  {
   "cell_type": "code",
   "execution_count": null,
   "id": "4d3275d5",
   "metadata": {
    "cellId": "sqxf9j0s71f4bt1s5pprhu"
   },
   "outputs": [],
   "source": []
  },
  {
   "cell_type": "code",
   "execution_count": null,
   "id": "b84e88b3",
   "metadata": {
    "cellId": "fgkews0jnldlsrp3xuz9rp"
   },
   "outputs": [],
   "source": []
  }
 ],
 "metadata": {
  "language_info": {
   "codemirror_mode": {
    "name": "ipython",
    "version": 3
   },
   "file_extension": ".py",
   "mimetype": "text/x-python",
   "name": "python",
   "nbconvert_exporter": "python",
   "pygments_lexer": "ipython3",
   "version": "3.7.7"
  },
  "notebookId": "2e2640fc-f30a-41a9-97df-5ca6010f3de9",
  "notebookPath": "Untitled.ipynb"
 },
 "nbformat": 4,
 "nbformat_minor": 5
}
